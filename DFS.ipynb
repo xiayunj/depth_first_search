{
 "cells": [
  {
   "cell_type": "markdown",
   "metadata": {},
   "source": [
    "# Depth-First-Search\n",
    "# Connected Components\n",
    "## Yunjun Xia\n",
    "\n",
    "Implement depth-first search for identifying the connected components of an undirected graph and implement procedure Search as a subroutine along the way.\n",
    "\n",
    "Dataset: recording the interactions between characters in Homer's *Iliad*."
   ]
  },
  {
   "cell_type": "code",
   "execution_count": 1,
   "metadata": {},
   "outputs": [],
   "source": [
    "import networkx\n",
    "from urllib.request import urlopen\n",
    "homer = urlopen('http://people.sc.fsu.edu/~jburkardt/datasets/sgb/homer.dat')\n",
    "homer = [line.decode('utf-8') for line in homer]"
   ]
  },
  {
   "cell_type": "markdown",
   "metadata": {},
   "source": [
    "The format of the data is straightforward. After some comment lines (beginning with \\*), the file lists a codename for each character (i.e., node of the graph), followed by a description. The file then lists the groups of characters that interact in each chapter, from which we can form the edges. For instance, the first line has the form:\n",
    "\n",
    "```1:CH,AG,ME,GS;AP,CH;HE,AC;AC,AG,CA;HE,AT;AT,AC;AT,OG;NE,AG,AC;CS,OD```\n",
    "\n",
    "This means that CH,AG,ME,GS interacted, so there are edges for all pairs of these nodes. Groups of characters that interacted are separated by semicolons. The lines start with chapter information of the form `1:` or `&:`, which can be ignored for this problem."
   ]
  },
  {
   "cell_type": "markdown",
   "metadata": {},
   "source": [
    "First implement a function to read in the nodes from the input file. "
   ]
  },
  {
   "cell_type": "markdown",
   "metadata": {},
   "source": [
    "Next implement a function to read in the edges from the input file."
   ]
  },
  {
   "cell_type": "code",
   "execution_count": 2,
   "metadata": {},
   "outputs": [],
   "source": [
    "def read_nodes(gfile):\n",
    "    \"\"\"Reads in the nodes of the graph from the input file.\n",
    "    \n",
    "    Args:\n",
    "        gfile: A handle for the file containing the graph data, starting at the top.\n",
    "        \n",
    "    Returns:\n",
    "        A generator of the nodes in the graph, yielding a list of the form:\n",
    "            ['CH', 'AG, 'ME', ...]\n",
    "    \"\"\"\n",
    "    # TODO: implement function\n",
    "    if gfile==None or len(gfile)==0: #check the input file is empty or not\n",
    "        return('Error: Your input file is empty!')\n",
    "    if type(gfile)!=list: #check the input file type is a list or not\n",
    "        return('Error: Your input type is not a list')\n",
    "    \n",
    "    length=len(gfile) #get the number of strings in gfile\n",
    "    nodes=[] #construct an empty string to store the nodes \n",
    "    for i in range(length):\n",
    "        #use an if statement to get the lines of nodes\n",
    "        if gfile[i][0]!='*' and gfile[i]!='\\n' and ':' not in gfile[i]:\n",
    "            templength=len(gfile[i])\n",
    "            #use a for loop to find the first space in the specific line\n",
    "            for j in range(templength):\n",
    "                if gfile[i][j]==' ':\n",
    "                    index=j\n",
    "                    break\n",
    "            tempnode=gfile[i][0:j] #get the node of the ith line\n",
    "            nodes.append(tempnode) #add the node to the string\n",
    "    return nodes\n",
    "    pass\n"
   ]
  },
  {
   "cell_type": "code",
   "execution_count": 3,
   "metadata": {},
   "outputs": [],
   "source": [
    "from itertools import combinations #import the combinations function from itertools for read_edges, which is permitted\n",
    "\n",
    "def read_edges(gfile):\n",
    "    \"\"\"Reads in the edges of the graph from the input file.\n",
    "    \n",
    "    Args:\n",
    "        gfile: A handle for the file containing the graph data, starting at the top \n",
    "            of the edges section.\n",
    "            \n",
    "    Returns:\n",
    "        A generator of the edges in the graph, yielding a list of pairs of the form:\n",
    "            [('CH', 'AG'), ('AG', 'ME'), ...]\n",
    "    \"\"\"\n",
    "    # TODO: implement function\n",
    "    if gfile==None or len(gfile)==0: #check the input file is empty or not\n",
    "        return('Error: Your input file is empty!')\n",
    "    if type(gfile)!=list: #check the input file type is a list or not\n",
    "        return('Error: Your input type is not a list')\n",
    "    \n",
    "    length=len(gfile) #get the number of strings in gfile\n",
    "    edges=[] #construct an empty string to store the edges\n",
    "    for i in range(length):\n",
    "        if ':' in gfile[i]: #get the lines of edge connections\n",
    "            \n",
    "            #get the temp string only including valid info. within the ith line\n",
    "            #eg. if the ith line is '1:aa,bb;cc,dd\\n', temp is 'aa,bb;cc,dd'\n",
    "            start=gfile[i].find(':')+1\n",
    "            end=len(gfile[i])-1\n",
    "            temp=gfile[i][start:end]\n",
    "            \n",
    "            templist=[] #set an empty list\n",
    "            count=0 #set count to 0\n",
    "            \n",
    "            #we divide the orginal temp string into separate subproblem, separated by ';'\n",
    "            while temp.find(';')!=-1:\n",
    "                index=temp.find(';')\n",
    "                temp2=temp[0:index]\n",
    "                for k in range(len(temp2)):\n",
    "                    if temp2[k]==',':\n",
    "                        templist.append(temp2[count:k])\n",
    "                        count=k+1\n",
    "                templist.append(temp2[count:len(temp2)])\n",
    "                edges=edges+list(combinations(templist,2))\n",
    "                count=0\n",
    "                templist=[]\n",
    "                temp=temp[index+1:len(temp)]\n",
    "            \n",
    "            #this part will be runned for two possibilities:\n",
    "            #1. the ith line has no semicolons, so we skip the while loop to deal with the line entirely\n",
    "            #2. the rest is for the last subproblem which is the part after the last semicolon in the ith line\n",
    "            for p in range(len(temp)):\n",
    "                if temp[p]==',':\n",
    "                    templist.append(temp[count:p])\n",
    "                    count=p+1\n",
    "            templist.append(temp[count:len(temp)])\n",
    "            edges=edges+list(combinations(templist,2))\n",
    "    return edges\n",
    "    pass\n"
   ]
  },
  {
   "cell_type": "markdown",
   "metadata": {},
   "source": [
    "The following code should now correctly create the graph."
   ]
  },
  {
   "cell_type": "code",
   "execution_count": 4,
   "metadata": {},
   "outputs": [],
   "source": [
    "import networkx as nx\n",
    "G = nx.Graph()\n",
    "G.add_nodes_from(read_nodes(homer))\n",
    "G.add_edges_from(read_edges(homer))"
   ]
  },
  {
   "cell_type": "markdown",
   "metadata": {},
   "source": [
    "Next implement procedure Search. The function takes in a graph and a root node, and returns a list of the nodes visited during the search. The nodes should appear in the order in which they were *first visited*. The neighbors of a node should be processed in *alphabetical order*, where numbers come before letters. This will ensure that the output of the function is uniquely defined, given any input node.\n"
   ]
  },
  {
   "cell_type": "code",
   "execution_count": 5,
   "metadata": {},
   "outputs": [],
   "source": [
    "def Search(graph, root):\n",
    "    \"\"\"Runs Search from vertex root in a graph. Neighboring nodes are processed in alphabetical order.\n",
    "    \n",
    "    Args:\n",
    "        graph: the given graph, with nodes encoded as strings.\n",
    "        root: the node from which to start the search.\n",
    "        \n",
    "    Returns:\n",
    "        A list of nodes in the order in which they were first visited.\n",
    "    \"\"\"\n",
    "    # TODO: implement function\n",
    "    nodelist=[] #construct an empty string to store the nodes we visited in alphabetical order\n",
    "    subsearch(graph,root,nodelist) #run subsearch to fully construct the nodelist\n",
    "    \n",
    "    #Important: here we set attribute 'explored' of all nodes back to 0 to assure that \n",
    "    #           the function Search can be runned repeatedly. However, this will not\n",
    "    #           affect the function connected_components(graph), because in that function,\n",
    "    #           the attribute we reset to 0 is 'exploredCC' instead of 'explored'. Also,\n",
    "    #           we take consider of 'exploredCC' to check a node whether we have explored.\n",
    "    for x in graph.nodes:\n",
    "        graph.nodes[x]['explored']=0\n",
    "    \n",
    "    return nodelist\n",
    "    pass\n",
    "\n",
    "def subsearch(graph, root, nodelist):\n",
    "    \"\"\"This is an auxiliary function for Search. Runs subsearch from vertex root in a graph and append the \n",
    "       vertex root into nodelist. Mark attributed 'explored' and 'explored CC' to 1 for vertex root.\n",
    "       \n",
    "    Args:\n",
    "        graph: the given graph, with nodes encoded as strings.\n",
    "        root: the node from which to start the subsearch.\n",
    "        nodelist: the list with explored nodes.\n",
    "        \n",
    "    Returns:\n",
    "        None\n",
    "    \"\"\"\n",
    "    #set both attributes 'explored' and 'exploredCC' to 1 for vertex root\n",
    "    graph.nodes[root]['explored']=1 \n",
    "    graph.nodes[root]['exploredCC']=1\n",
    "    nodelist.append(root) #add root to nodelist\n",
    "    for x in sorted(list(graph.neighbors(root))): #explore the neighbors of root in alphabetical order\n",
    "        if 'explored' not in graph.nodes[x] or graph.nodes[x]['explored']!=1:\n",
    "            subsearch(graph,x,nodelist) #recursive subsearch for neighbors of vertex root\n",
    "    pass\n"
   ]
  },
  {
   "cell_type": "markdown",
   "metadata": {},
   "source": [
    "We will check the correctness of your code by verifying that it correctly computes the DFS tree starting at Ulysses (node `OD`)."
   ]
  },
  {
   "cell_type": "code",
   "execution_count": 6,
   "metadata": {},
   "outputs": [],
   "source": [
    "ulysses = Search(G, 'OD')"
   ]
  },
  {
   "cell_type": "markdown",
   "metadata": {},
   "source": [
    "Next implement DFS to find the connected components of the character graph. When choosing roots for your components, always pick the *smallest unvisited node* according to alphabetical ordering. Combined with your Search routine, this will ensure that the output is again uniquely defined."
   ]
  },
  {
   "cell_type": "code",
   "execution_count": 7,
   "metadata": {},
   "outputs": [],
   "source": [
    "def connected_components(graph):\n",
    "    \"\"\"Computes the connected components of the given graph.\n",
    "    \n",
    "    Args: \n",
    "        graph: the given graph, with nodes encoded as strings.\n",
    "        \n",
    "    Returns:\n",
    "        The connected components of the graph. Components are listed in\n",
    "        alphabetical order of their root nodes.\n",
    "    \"\"\"\n",
    "    # TODO: implement function\n",
    "    nodes=sorted(list(graph.nodes)) #sort all the nodes in alphabetical order and store them in list nodes\n",
    "    CC=[] #contruct an empty list to store output\n",
    "    for x in nodes: #set the attribute 'exploredCC' of all the nodes to 0\n",
    "        graph.nodes[x]['exploredCC']=0\n",
    "    for y in nodes:\n",
    "        if graph.nodes[y]['exploredCC']==0: #do Search for those nodes where we have not explored\n",
    "            templist=Search(graph, y) #store the output of Search to templist\n",
    "            CC.append(templist) #append the output Search to the output of Connected Components\n",
    "    return CC\n",
    "    pass\n"
   ]
  },
  {
   "cell_type": "markdown",
   "metadata": {},
   "source": [
    "We will check correctness of your code by verifying that your output list is identical to our solution."
   ]
  },
  {
   "cell_type": "code",
   "execution_count": 8,
   "metadata": {},
   "outputs": [],
   "source": [
    "character_interactions = connected_components(G)"
   ]
  },
  {
   "cell_type": "markdown",
   "metadata": {},
   "source": [
    "As a preliminary check, you should find that the following statements are all true."
   ]
  },
  {
   "cell_type": "code",
   "execution_count": 9,
   "metadata": {},
   "outputs": [
    {
     "name": "stdout",
     "output_type": "stream",
     "text": [
      "There are 12 connected components in the Iliad:True\n",
      "The giant component has size 542:True\n",
      "There are 5 isolated characters:True\n"
     ]
    }
   ],
   "source": [
    "component_sizes = [len(c) for c in character_interactions]\n",
    "print(\"There are 12 connected components in the Iliad:{}\".format(len(component_sizes) == 12))\n",
    "print(\"The giant component has size 542:{}\".format(max(component_sizes) == 542))\n",
    "print(\"There are 5 isolated characters:{}\".format(len([c for c in component_sizes if c == 1]) == 5))"
   ]
  }
 ],
 "metadata": {
  "kernelspec": {
   "display_name": "Python 3",
   "language": "python",
   "name": "python3"
  },
  "language_info": {
   "codemirror_mode": {
    "name": "ipython",
    "version": 3
   },
   "file_extension": ".py",
   "mimetype": "text/x-python",
   "name": "python",
   "nbconvert_exporter": "python",
   "pygments_lexer": "ipython3",
   "version": "3.7.4"
  }
 },
 "nbformat": 4,
 "nbformat_minor": 1
}
